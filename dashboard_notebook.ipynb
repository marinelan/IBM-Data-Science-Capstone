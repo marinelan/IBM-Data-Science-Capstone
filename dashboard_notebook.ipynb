{
 "cells": [
  {
   "cell_type": "code",
   "execution_count": 3,
   "id": "8a477659-23a8-40f7-9481-2dbdfe7a8859",
   "metadata": {},
   "outputs": [
    {
     "name": "stderr",
     "output_type": "stream",
     "text": [
      "/var/folders/3w/1t3nmp6d3d75s59yvygy1pyh0000gn/T/ipykernel_9601/2027532251.py:4: UserWarning: \n",
      "The dash_html_components package is deprecated. Please replace\n",
      "`import dash_html_components as html` with `from dash import html`\n",
      "  import dash_html_components as html\n"
     ]
    }
   ],
   "source": [
    "# Import required libraries\n",
    "import pandas as pd\n",
    "import dash\n",
    "import dash_html_components as html\n",
    "from dash import dcc\n",
    "from dash.dependencies import Input, Output\n",
    "import plotly.express as px"
   ]
  },
  {
   "cell_type": "code",
   "execution_count": 5,
   "id": "5bf816a8-7d93-44ba-a8e0-cf3bf9634f43",
   "metadata": {},
   "outputs": [
    {
     "data": {
      "text/html": [
       "\n",
       "        <iframe\n",
       "            width=\"100%\"\n",
       "            height=\"650\"\n",
       "            src=\"http://127.0.0.1:8050/\"\n",
       "            frameborder=\"0\"\n",
       "            allowfullscreen\n",
       "            \n",
       "        ></iframe>\n",
       "        "
      ],
      "text/plain": [
       "<IPython.lib.display.IFrame at 0x1379bc410>"
      ]
     },
     "metadata": {},
     "output_type": "display_data"
    }
   ],
   "source": [
    "# Read the airline data into pandas dataframe\n",
    "spacex_df = pd.read_csv(\"https://cf-courses-data.s3.us.cloud-object-storage.appdomain.cloud/IBM-DS0321EN-SkillsNetwork/datasets/spacex_launch_dash.csv\")\n",
    "max_payload = spacex_df['Payload Mass (kg)'].max()\n",
    "min_payload = spacex_df['Payload Mass (kg)'].min()\n",
    "\n",
    "# Create a dash application\n",
    "app = dash.Dash(__name__)\n",
    "\n",
    "# Create an app layout\n",
    "app.layout = html.Div(children=[html.H1('SpaceX Launch Records Dashboard',\n",
    "                                        style={'textAlign': 'center', 'color': '#503D36',\n",
    "                                               'font-size': 40}),\n",
    "                                \n",
    "                                # TASK 1: Add a dropdown list to enable Launch Site selection\n",
    "                                # The default select value is for ALL sites\n",
    "                                # dcc.Dropdown(id='site-dropdown',...)\n",
    "                                html.Br(),\n",
    "\n",
    "                                dcc.Dropdown(id = 'site-dropdown',\n",
    "                                             options=[{'label': 'All Sites', 'value': 'ALL'},\n",
    "                                                      {'label': 'CCAFS LC-40', 'value': 'CCAFS LC-40'},\n",
    "                                                      {'label': 'CCAFS SLC-40', 'value': 'CCAFS SLC-40'},\n",
    "                                                      {'label': 'KSC LC-39A', 'value': 'KSC LC-39A'},\n",
    "                                                      {'label': 'VAFB SLC-4E', 'value': 'VAFB SLC-4E'}],\n",
    "                                             value = 'ALL',\n",
    "                                             placeholder = 'Select a Site'),\n",
    "\n",
    "                                # TASK 2: Add a pie chart to show the total successful launches count for all sites\n",
    "                                # If a specific launch site was selected, show the Success vs. Failed counts for the site\n",
    "                                html.Div(dcc.Graph(id='success-pie-chart')),\n",
    "                                html.Br(),\n",
    "\n",
    "                                html.P(\"Payload range (Kg):\"),\n",
    "                                # TASK 3: Add a slider to select payload range\n",
    "                                #dcc.RangeSlider(id='payload-slider',...)\n",
    "                                dcc.RangeSlider(id='payload-slider',\n",
    "                                                min=0,\n",
    "                                                max=10000,\n",
    "                                                step=1000,\n",
    "                                                value=[min_payload, max_payload]\n",
    "                                                ),\n",
    "                                \n",
    "                                # TASK 4: Add a scatter chart to show the correlation between payload and launch success\n",
    "                                html.Div(dcc.Graph(id='success-payload-scatter-chart')),\n",
    "                                ])\n",
    "\n",
    "# TASK 2:\n",
    "# Add a callback function for `site-dropdown` as input, `success-pie-chart` as output\n",
    "\n",
    "@app.callback(Output(component_id ='success-pie-chart', component_property ='figure'),\n",
    "              Input(component_id ='site-dropdown', component_property ='value'))\n",
    "\n",
    "def pie_chart(site_dropdown):\n",
    "    df = spacex_df\n",
    "    if site_dropdown == 'ALL':\n",
    "        figure = px.pie(df, names ='Launch Site', \n",
    "                         values ='class',\n",
    "                         title ='Successful Launches per Site')\n",
    "        return figure\n",
    "    else:\n",
    "        site = df[df['Launch Site'] == site_dropdown]\n",
    "        figure = px.pie(site, names ='class', \n",
    "                         title='Successful vs Failed Launches')\n",
    "        return figure\n",
    "\n",
    "\n",
    "# TASK 4:\n",
    "# Add a callback function for `site-dropdown` and `payload-slider` as inputs, `success-payload-scatter-chart` as output\n",
    "\n",
    "@app.callback(Output(component_id ='success-payload-scatter-chart',component_property ='figure'),  \n",
    "              [Input(component_id ='site-dropdown',component_property ='value'),\n",
    "               Input(component_id ='payload-slider',component_property ='value')])\n",
    "\n",
    "def scatter_plot(site_dropdown, payload_slider):\n",
    "    df = spacex_df\n",
    "    if site_dropdown == 'ALL':\n",
    "        figure = px.scatter(df, \n",
    "                              x = 'Payload Mass (kg)',\n",
    "                              y = 'class',\n",
    "                              color ='Booster Version Category',\n",
    "                              title ='Payload and Success Rate')\n",
    "        return figure\n",
    "    else:\n",
    "        site = df[df['Launch Site'] == site_dropdown]\n",
    "        figure = px.scatter(site, \n",
    "                               x ='Payload Mass (kg)',\n",
    "                               y ='class',\n",
    "                               color ='Booster Version Category',\n",
    "                               title ='Payload and Success Rate per Site')\n",
    "        return figure\n",
    "\n",
    "# Run the app\n",
    "if __name__ == '__main__':\n",
    "    app.run_server()"
   ]
  },
  {
   "cell_type": "code",
   "execution_count": null,
   "id": "50332418-09a0-49d5-93a1-902ec4b23e52",
   "metadata": {},
   "outputs": [],
   "source": []
  }
 ],
 "metadata": {
  "kernelspec": {
   "display_name": "Python 3 (ipykernel)",
   "language": "python",
   "name": "python3"
  },
  "language_info": {
   "codemirror_mode": {
    "name": "ipython",
    "version": 3
   },
   "file_extension": ".py",
   "mimetype": "text/x-python",
   "name": "python",
   "nbconvert_exporter": "python",
   "pygments_lexer": "ipython3",
   "version": "3.11.5"
  }
 },
 "nbformat": 4,
 "nbformat_minor": 5
}
